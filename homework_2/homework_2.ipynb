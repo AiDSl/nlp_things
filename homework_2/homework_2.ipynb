{
 "cells": [
  {
   "cell_type": "code",
   "execution_count": 51,
   "metadata": {},
   "outputs": [
    {
     "data": {
      "text/plain": [
       "[{'name': '罪夢者',\n",
       "  'link': 'https://movies.yahoo.com.tw/movieinfo_main/%E7%BD%AA%E5%A4%A2%E8%80%85-nowhere-man-10269',\n",
       "  'when': '2019-10-31',\n",
       "  'desc': '《罪夢者》故事講述死刑犯阿全在獄中等待死刑的漫漫長日裡，聽聞自己的兒子遭到綁架，為了救回兒子及保護家人，阿全策劃逃出囚籠，卻發現自己身陷更危險的計謀之中。整段過程中，阿全不時會陷入半夢半醒的境界，他也將帶領觀眾一起踏上救贖之路。這是一部關於兄弟情、黑幫社會跟逃獄的故事。',\n",
       "  'class': ['戲劇', '影集', '動作', '冒險']}]"
      ]
     },
     "execution_count": 51,
     "metadata": {},
     "output_type": "execute_result"
    }
   ],
   "source": [
    "import copy;\n",
    "import requests;\n",
    "from bs4 import BeautifulSoup;\n",
    "\n",
    "def getSoup(inurl):\n",
    "    r = requests.get(inurl)\n",
    "    r.encoding = 'utf-8'\n",
    "    soup=BeautifulSoup(r.text);\n",
    "    return soup;\n",
    "\n",
    "def gen_page_number_list():\n",
    "    result=list();\n",
    "    for i in range(1,22):\n",
    "        sup=getSoup(\"https://movies.yahoo.com.tw/moviegenre_result.html?genre_id=\"+str(i)+\"&page=1\");\n",
    "        page_count=1;\n",
    "        if sup.find(\"div\",class_=\"page_numbox\") is not None:\n",
    "            lis=sup.find(\"div\",class_=\"page_numbox\").find_all(\"li\");\n",
    "            page_count=int(lis[len(lis)-3].text);\n",
    "        #print({\"id\":i,\"page_count\":page_count});\n",
    "        result.append({\"genre_id\":i,\"page_count\":page_count});\n",
    "    return result;\n",
    "\n",
    "\n",
    "def extend_page_dataset(indataset,inurl):\n",
    "    a_data={\n",
    "        \"name\":\"\",\n",
    "        \"link\":\"\",\n",
    "        \"when\":\"\",\n",
    "        \"desc\":\"\",\n",
    "        \"class\":[]\n",
    "    };\n",
    "    sup=getSoup(inurl);\n",
    "    info_part=sup.find(\"div\",class_=\"movie_intro_info_r\");\n",
    "    desc_str=sup.find(\"span\",id=\"story\").text.strip();\n",
    "    \n",
    "    when_str=\"\";\n",
    "    for entry in info_part.find_all(\"span\"):\n",
    "        if entry.text.startswith(\"上映日期：\"):\n",
    "            when_str=copy.deepcopy(entry.text);\n",
    "            when_str=when_str[len(\"上映日期：\"):];\n",
    "            break;\n",
    "    if when_str==\"\":\n",
    "        raise Exception(\"date not found\");\n",
    "        \n",
    "    class_list=[];\n",
    "    for entry in info_part.find(\"div\",class_=\"level_name_box\").find_all(\"a\"):\n",
    "        class_list.append(entry.text.strip());\n",
    "    \n",
    "    \n",
    "    a_data[\"name\"]=info_part.find(\"h1\").text;\n",
    "    a_data[\"link\"]=inurl;\n",
    "    a_data[\"when\"]=when_str;\n",
    "    a_data[\"desc\"]=desc_str;\n",
    "    a_data[\"class\"]=class_list;\n",
    "    \n",
    "    indataset.append(a_data);\n",
    "    return indataset;\n",
    "#end of extend_page_dataset\n",
    "extend_page_dataset([],\"https://movies.yahoo.com.tw/movieinfo_main/%E7%BD%AA%E5%A4%A2%E8%80%85-nowhere-man-10269\")\n",
    "    \n",
    "    "
   ]
  },
  {
   "cell_type": "code",
   "execution_count": null,
   "metadata": {},
   "outputs": [],
   "source": []
  }
 ],
 "metadata": {
  "kernelspec": {
   "display_name": "Python 3",
   "language": "python",
   "name": "python3"
  },
  "language_info": {
   "codemirror_mode": {
    "name": "ipython",
    "version": 3
   },
   "file_extension": ".py",
   "mimetype": "text/x-python",
   "name": "python",
   "nbconvert_exporter": "python",
   "pygments_lexer": "ipython3",
   "version": "3.7.6"
  }
 },
 "nbformat": 4,
 "nbformat_minor": 4
}
