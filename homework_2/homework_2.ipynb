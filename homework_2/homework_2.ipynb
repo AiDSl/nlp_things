{
 "cells": [
  {
   "cell_type": "code",
   "execution_count": 32,
   "metadata": {},
   "outputs": [
    {
     "name": "stdout",
     "output_type": "stream",
     "text": [
      "[{'genre_id': 1, 'page_count': 127}, {'genre_id': 2, 'page_count': 63}, {'genre_id': 3, 'page_count': 42}, {'genre_id': 4, 'page_count': 42}, {'genre_id': 5, 'page_count': 442}, {'genre_id': 6, 'page_count': 54}, {'genre_id': 7, 'page_count': 71}, {'genre_id': 8, 'page_count': 173}, {'genre_id': 9, 'page_count': 148}, {'genre_id': 10, 'page_count': 135}, {'genre_id': 11, 'page_count': 34}, {'genre_id': 12, 'page_count': 71}, {'genre_id': 13, 'page_count': 17}, {'genre_id': 14, 'page_count': 29}, {'genre_id': 15, 'page_count': 21}, {'genre_id': 16, 'page_count': 46}, {'genre_id': 17, 'page_count': 13}, {'genre_id': 18, 'page_count': 3}, {'genre_id': 19, 'page_count': 5}, {'genre_id': 20, 'page_count': 1}, {'genre_id': 21, 'page_count': 1}]\n"
     ]
    }
   ],
   "source": [
    "import requests;\n",
    "from bs4 import BeautifulSoup;\n",
    "\n",
    "def getSoup(inurl):\n",
    "    r = requests.get(inurl)\n",
    "    r.encoding = 'utf-8'\n",
    "    soup=BeautifulSoup(r.text);\n",
    "    return soup;\n",
    "\n",
    "def gen_page_number_list():\n",
    "    result=list();\n",
    "    for i in range(1,22):\n",
    "        sup=getSoup(\"https://movies.yahoo.com.tw/moviegenre_result.html?genre_id=\"+str(i)+\"&page=1\");\n",
    "        page_count=1;\n",
    "        if sup.find(\"div\",class_=\"page_numbox\") is not None:\n",
    "            lis=sup.find(\"div\",class_=\"page_numbox\").find_all(\"li\");\n",
    "            page_count=int(lis[len(lis)-3].text);\n",
    "        #print({\"id\":i,\"page_count\":page_count});\n",
    "        result.append({\"genre_id\":i,\"page_count\":page_count});\n",
    "    return result;\n",
    "print(gen_page_number_list());"
   ]
  },
  {
   "cell_type": "code",
   "execution_count": null,
   "metadata": {},
   "outputs": [],
   "source": []
  }
 ],
 "metadata": {
  "kernelspec": {
   "display_name": "Python 3",
   "language": "python",
   "name": "python3"
  },
  "language_info": {
   "codemirror_mode": {
    "name": "ipython",
    "version": 3
   },
   "file_extension": ".py",
   "mimetype": "text/x-python",
   "name": "python",
   "nbconvert_exporter": "python",
   "pygments_lexer": "ipython3",
   "version": "3.7.6"
  }
 },
 "nbformat": 4,
 "nbformat_minor": 4
}
