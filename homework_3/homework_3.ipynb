{
 "cells": [
  {
   "cell_type": "code",
   "execution_count": 2,
   "metadata": {},
   "outputs": [
    {
     "name": "stderr",
     "output_type": "stream",
     "text": [
      "Paddle enabled successfully......\n"
     ]
    },
    {
     "name": "stdout",
     "output_type": "stream",
     "text": [
      "done!\n"
     ]
    }
   ],
   "source": [
    "import jieba;\n",
    "jieba.enable_paddle();\n",
    "#ya,I think jieba are kinda magical\n",
    "\n",
    "import copy;\n",
    "import math;\n",
    "import json;\n",
    "import requests;\n",
    "from random import randrange\n",
    "from bs4 import BeautifulSoup;\n",
    "\n",
    "\n",
    "\n",
    "things={};\n",
    "with open(\"./output415-Copy1.txt\",encoding='utf-8') as ifile:\n",
    "    things=json.loads(ifile.read());\n",
    "print(\"done!\");"
   ]
  },
  {
   "cell_type": "code",
   "execution_count": 10,
   "metadata": {},
   "outputs": [
    {
     "name": "stdout",
     "output_type": "stream",
     "text": [
      "{'name': '蝙蝠俠', 'link': 'https://movies.yahoo.com.tw/movieinfo_main/%E8%9D%99%E8%9D%A0%E4%BF%A0-the-batman-10904', 'when': '2022-03-04', 'desc': '《蝙蝠俠》將聚焦於一個年輕版本的布魯斯韋恩，並從中檢視他在面罩之下的靈魂。羅伯派汀森將在新版《蝙蝠俠》中飾演這位DC超級英雄，電影是由《猩球崛起：終極決戰》導演麥特李維斯（Matt Reeves）所執導。', 'class': ['動作', '犯罪']}\n"
     ]
    }
   ],
   "source": [
    "print(things[\"data\"][1]);"
   ]
  },
  {
   "cell_type": "code",
   "execution_count": 40,
   "metadata": {},
   "outputs": [
    {
     "ename": "SyntaxError",
     "evalue": "invalid syntax (<ipython-input-40-1d7a9c612680>, line 92)",
     "output_type": "error",
     "traceback": [
      "\u001b[1;36m  File \u001b[1;32m\"<ipython-input-40-1d7a9c612680>\"\u001b[1;36m, line \u001b[1;32m92\u001b[0m\n\u001b[1;33m    def\u001b[0m\n\u001b[1;37m        ^\u001b[0m\n\u001b[1;31mSyntaxError\u001b[0m\u001b[1;31m:\u001b[0m invalid syntax\n"
     ]
    }
   ],
   "source": [
    "\n",
    "def scan_doc(inname,inlist):\n",
    "    doc={\n",
    "        \"name\":inname,\n",
    "        \"total_word_count\":0,\n",
    "        \"stat\":{}# word -> {count,idf}\n",
    "    };\n",
    "    \n",
    "    #scan thorogh list\n",
    "    for word in inlist:\n",
    "        if word in doc[\"stat\"]:\n",
    "            doc[\"stat\"][word][\"count\"]+=1;\n",
    "        else:\n",
    "            doc[\"stat\"][word]={};\n",
    "            doc[\"stat\"][word][\"name\"]=word;\n",
    "            doc[\"stat\"][word][\"source\"]=inname;\n",
    "            doc[\"stat\"][word][\"count\"]=1;\n",
    "        doc[\"total_word_count\"]+=1;\n",
    "    #end of loop\n",
    "   \n",
    "    return doc;\n",
    "#end of scan_doc\n",
    "\n",
    "def scan_doc_list(inlist):\n",
    "    docs={\n",
    "        \"total_doc_count\":0,\n",
    "        \"total_word_count\":0,\n",
    "        \"stat\":{},# word -> {count,idf}\n",
    "        \"doc\":{}#line -> doc\n",
    "    };\n",
    "    \n",
    "    #scan every doc in lista\n",
    "    for line,line_of_list in inlist.items():\n",
    "        doc=scan_doc(line,line_of_list);\n",
    "        docs[\"doc\"][line]=doc;\n",
    "        #merge stat loop\n",
    "        for word,info in doc[\"stat\"].items():\n",
    "            if word in docs[\"stat\"]:\n",
    "                docs[\"stat\"][word][\"count\"]+=doc[\"stat\"][word][\"count\"];\n",
    "                docs[\"stat\"][word][\"doc_count\"]+=1;\n",
    "            else:\n",
    "                docs[\"stat\"][word]={};\n",
    "                docs[\"stat\"][word][\"name\"]=word;\n",
    "                docs[\"stat\"][word][\"count\"]=copy.deepcopy(doc[\"stat\"][word][\"count\"]);\n",
    "                docs[\"stat\"][word][\"doc_count\"]=1;\n",
    "        #end of merge loop\n",
    "        docs[\"total_doc_count\"]+=1;\n",
    "        docs[\"total_word_count\"]+=doc[\"total_word_count\"];\n",
    "    #end of scan\n",
    "    \n",
    "    for word,info in docs[\"stat\"].items():\n",
    "        info[\"idf\"]=math.log((docs[\"total_doc_count\"])/(info[\"doc_count\"]),10);\n",
    "    #end of idf cal\n",
    "    \n",
    "    for word,doc in docs[\"doc\"].items():\n",
    "        for word,info in doc[\"stat\"].items():\n",
    "            tr=(info[\"count\"])/(doc[\"total_word_count\"]);\n",
    "            idf=docs[\"stat\"][word][\"idf\"];\n",
    "            info[\"tfidf\"]=(tr)*(idf);\n",
    "        #end of a word\n",
    "    #end of a doc\n",
    "    return docs;\n",
    "#end of scan_doc_list\n",
    "\n",
    "\n",
    "class prediction:\n",
    "    def __init__(self,indataset):\n",
    "        self.vector={};#each contain word,index and their idf value\n",
    "        self.map=[];#each contain list of idf,and class\n",
    "        \n",
    "        doc_list={};\n",
    "        for i,entry in enumerate(indataset):\n",
    "            line=entry[\"name\"]+entry[\"desc\"];\n",
    "            cut_list=list(jieba.cut(entry[\"name\"]))+list(jieba.cut(entry[\"desc\"]));\n",
    "            doc_list[line]=cut_list;\n",
    "        #end of making thing from list\n",
    "        \n",
    "        #yes,code resused\n",
    "        docs=scan_doc_list(doc_list);\n",
    "        \n",
    "        #converter them into vector\n",
    "        for entry in docs[\"stat\"].values():\n",
    "            self.vector[entry[\"name\"]]={\"idf\":entry[\"idf\"]};\n",
    "        \n",
    "        for entry in docs[\"doc\"].values():\n",
    "            point={};\n",
    "            for word,info in entry[\"stat\"].items():\n",
    "                point[word]=info[\"tfidf\"];\n",
    "            self.map.append(point);\n",
    "                \n",
    "        print(self.map);\n",
    "        return;\n",
    "    def \n",
    "    #end of __init\n",
    "#end of prediction\n",
    "\n",
    "prediction(things[\"data\"][0:1])"
   ]
  },
  {
   "cell_type": "code",
   "execution_count": null,
   "metadata": {},
   "outputs": [],
   "source": []
  }
 ],
 "metadata": {
  "kernelspec": {
   "display_name": "Python 3",
   "language": "python",
   "name": "python3"
  },
  "language_info": {
   "codemirror_mode": {
    "name": "ipython",
    "version": 3
   },
   "file_extension": ".py",
   "mimetype": "text/x-python",
   "name": "python",
   "nbconvert_exporter": "python",
   "pygments_lexer": "ipython3",
   "version": "3.7.6"
  }
 },
 "nbformat": 4,
 "nbformat_minor": 4
}
