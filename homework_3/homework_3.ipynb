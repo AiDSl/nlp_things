{
 "cells": [
  {
   "cell_type": "code",
   "execution_count": 2,
   "metadata": {},
   "outputs": [
    {
     "name": "stderr",
     "output_type": "stream",
     "text": [
      "Paddle enabled successfully......\n"
     ]
    },
    {
     "name": "stdout",
     "output_type": "stream",
     "text": [
      "done!\n"
     ]
    }
   ],
   "source": [
    "import jieba;\n",
    "jieba.enable_paddle();\n",
    "#ya,I think jieba are kinda magical\n",
    "\n",
    "import copy;\n",
    "import math;\n",
    "import json;\n",
    "import requests;\n",
    "from random import randrange\n",
    "from bs4 import BeautifulSoup;\n",
    "\n",
    "\n",
    "\n",
    "things={};\n",
    "with open(\"./output415-Copy1.txt\",encoding='utf-8') as ifile:\n",
    "    things=json.loads(ifile.read());\n",
    "print(\"done!\");"
   ]
  },
  {
   "cell_type": "code",
   "execution_count": 10,
   "metadata": {},
   "outputs": [
    {
     "name": "stdout",
     "output_type": "stream",
     "text": [
      "{'name': '蝙蝠俠', 'link': 'https://movies.yahoo.com.tw/movieinfo_main/%E8%9D%99%E8%9D%A0%E4%BF%A0-the-batman-10904', 'when': '2022-03-04', 'desc': '《蝙蝠俠》將聚焦於一個年輕版本的布魯斯韋恩，並從中檢視他在面罩之下的靈魂。羅伯派汀森將在新版《蝙蝠俠》中飾演這位DC超級英雄，電影是由《猩球崛起：終極決戰》導演麥特李維斯（Matt Reeves）所執導。', 'class': ['動作', '犯罪']}\n"
     ]
    }
   ],
   "source": [
    "print(things[\"data\"][1]);"
   ]
  },
  {
   "cell_type": "code",
   "execution_count": 37,
   "metadata": {},
   "outputs": [
    {
     "name": "stdout",
     "output_type": "stream",
     "text": [
      "{'name': '小小', 'source': '小小兵2：格魯的崛起今年暑假，影史最賣座的動畫電影系列之一和風靡全球的現象，即將帶來關於一個12歲小男孩的故事，他夢想成為世上最偉大的超級大壞蛋。這部全新動畫喜劇動作片就是《小小兵2：格魯的崛起》。\\r\\n\\xa0\\r\\n這部電影充滿了照明娛樂招牌的顛覆性和無厘頭喜劇橋段、各種大眾文化的笑梗、感人肺腑的劇情、勁爆的電影配樂，以及宇宙超級無敵誇張的動作場面。《小小兵2：格魯的崛起》一片由這個電影系列的原創掌舵，製片包括照明娛樂極具遠見的創辦人和執行長克里斯梅勒丹德利、他的長期合作夥伴珍娜海莉，以及克里斯雷納德，導演凱爾巴爾達（《神偷奶爸3》、《小小兵》）則再度回歸執導這部電影。共同導演是布萊德艾柏森（長壽喜劇影集《辛普森家庭》）以及強納森戴凡（《寵物當家》系列電影）。', 'count': 4, 'tfidf': 0.0}\n"
     ]
    },
    {
     "ename": "KeyError",
     "evalue": "'tfidf'",
     "output_type": "error",
     "traceback": [
      "\u001b[1;31m---------------------------------------------------------------------------\u001b[0m",
      "\u001b[1;31mKeyError\u001b[0m                                  Traceback (most recent call last)",
      "\u001b[1;32m<ipython-input-37-e14f526f4060>\u001b[0m in \u001b[0;36m<module>\u001b[1;34m\u001b[0m\n\u001b[0;32m     95\u001b[0m \u001b[1;31m#end of prediction\u001b[0m\u001b[1;33m\u001b[0m\u001b[1;33m\u001b[0m\u001b[1;33m\u001b[0m\u001b[0m\n\u001b[0;32m     96\u001b[0m \u001b[1;33m\u001b[0m\u001b[0m\n\u001b[1;32m---> 97\u001b[1;33m \u001b[0mprediction\u001b[0m\u001b[1;33m(\u001b[0m\u001b[0mthings\u001b[0m\u001b[1;33m[\u001b[0m\u001b[1;34m\"data\"\u001b[0m\u001b[1;33m]\u001b[0m\u001b[1;33m[\u001b[0m\u001b[1;36m0\u001b[0m\u001b[1;33m:\u001b[0m\u001b[1;36m1\u001b[0m\u001b[1;33m]\u001b[0m\u001b[1;33m)\u001b[0m\u001b[1;33m\u001b[0m\u001b[1;33m\u001b[0m\u001b[0m\n\u001b[0m",
      "\u001b[1;32m<ipython-input-37-e14f526f4060>\u001b[0m in \u001b[0;36m__init__\u001b[1;34m(self, indataset)\u001b[0m\n\u001b[0;32m     86\u001b[0m             \u001b[1;32mfor\u001b[0m \u001b[0mword\u001b[0m\u001b[1;33m,\u001b[0m\u001b[0minfo\u001b[0m \u001b[1;32min\u001b[0m \u001b[0mentry\u001b[0m\u001b[1;33m[\u001b[0m\u001b[1;34m\"stat\"\u001b[0m\u001b[1;33m]\u001b[0m\u001b[1;33m.\u001b[0m\u001b[0mitems\u001b[0m\u001b[1;33m(\u001b[0m\u001b[1;33m)\u001b[0m\u001b[1;33m:\u001b[0m\u001b[1;33m\u001b[0m\u001b[1;33m\u001b[0m\u001b[0m\n\u001b[0;32m     87\u001b[0m                 \u001b[0mprint\u001b[0m\u001b[1;33m(\u001b[0m\u001b[0minfo\u001b[0m\u001b[1;33m)\u001b[0m\u001b[1;33m;\u001b[0m\u001b[1;33m\u001b[0m\u001b[1;33m\u001b[0m\u001b[0m\n\u001b[1;32m---> 88\u001b[1;33m                 \u001b[0mpoint\u001b[0m\u001b[1;33m[\u001b[0m\u001b[0mword\u001b[0m\u001b[1;33m]\u001b[0m\u001b[1;33m=\u001b[0m\u001b[1;33m{\u001b[0m\u001b[1;34m\"tfidf\"\u001b[0m\u001b[1;33m:\u001b[0m\u001b[0mentry\u001b[0m\u001b[1;33m[\u001b[0m\u001b[1;34m\"tfidf\"\u001b[0m\u001b[1;33m]\u001b[0m\u001b[1;33m}\u001b[0m\u001b[1;33m;\u001b[0m\u001b[1;33m\u001b[0m\u001b[1;33m\u001b[0m\u001b[0m\n\u001b[0m\u001b[0;32m     89\u001b[0m             \u001b[0mself\u001b[0m\u001b[1;33m.\u001b[0m\u001b[0mmap\u001b[0m\u001b[1;33m.\u001b[0m\u001b[0mappend\u001b[0m\u001b[1;33m(\u001b[0m\u001b[0mpoint\u001b[0m\u001b[1;33m)\u001b[0m\u001b[1;33m;\u001b[0m\u001b[1;33m\u001b[0m\u001b[1;33m\u001b[0m\u001b[0m\n\u001b[0;32m     90\u001b[0m \u001b[1;33m\u001b[0m\u001b[0m\n",
      "\u001b[1;31mKeyError\u001b[0m: 'tfidf'"
     ]
    }
   ],
   "source": [
    "\n",
    "def scan_doc(inname,inlist):\n",
    "    doc={\n",
    "        \"name\":inname,\n",
    "        \"total_word_count\":0,\n",
    "        \"stat\":{}# word -> {count,idf}\n",
    "    };\n",
    "    \n",
    "    #scan thorogh list\n",
    "    for word in inlist:\n",
    "        if word in doc[\"stat\"]:\n",
    "            doc[\"stat\"][word][\"count\"]+=1;\n",
    "        else:\n",
    "            doc[\"stat\"][word]={};\n",
    "            doc[\"stat\"][word][\"name\"]=word;\n",
    "            doc[\"stat\"][word][\"source\"]=inname;\n",
    "            doc[\"stat\"][word][\"count\"]=1;\n",
    "        doc[\"total_word_count\"]+=1;\n",
    "    #end of loop\n",
    "   \n",
    "    return doc;\n",
    "#end of scan_doc\n",
    "\n",
    "def scan_doc_list(inlist):\n",
    "    docs={\n",
    "        \"total_doc_count\":0,\n",
    "        \"total_word_count\":0,\n",
    "        \"stat\":{},# word -> {count,idf}\n",
    "        \"doc\":{}#line -> doc\n",
    "    };\n",
    "    \n",
    "    #scan every doc in lista\n",
    "    for line,line_of_list in inlist.items():\n",
    "        doc=scan_doc(line,line_of_list);\n",
    "        docs[\"doc\"][line]=doc;\n",
    "        #merge stat loop\n",
    "        for word,info in doc[\"stat\"].items():\n",
    "            if word in docs[\"stat\"]:\n",
    "                docs[\"stat\"][word][\"count\"]+=doc[\"stat\"][word][\"count\"];\n",
    "                docs[\"stat\"][word][\"doc_count\"]+=1;\n",
    "            else:\n",
    "                docs[\"stat\"][word]={};\n",
    "                docs[\"stat\"][word][\"name\"]=word;\n",
    "                docs[\"stat\"][word][\"count\"]=copy.deepcopy(doc[\"stat\"][word][\"count\"]);\n",
    "                docs[\"stat\"][word][\"doc_count\"]=1;\n",
    "        #end of merge loop\n",
    "        docs[\"total_doc_count\"]+=1;\n",
    "        docs[\"total_word_count\"]+=doc[\"total_word_count\"];\n",
    "    #end of scan\n",
    "    \n",
    "    for word,info in docs[\"stat\"].items():\n",
    "        info[\"idf\"]=math.log((docs[\"total_doc_count\"])/(info[\"doc_count\"]),10);\n",
    "    #end of idf cal\n",
    "    \n",
    "    for word,doc in docs[\"doc\"].items():\n",
    "        for word,info in doc[\"stat\"].items():\n",
    "            tr=(info[\"count\"])/(doc[\"total_word_count\"]);\n",
    "            idf=docs[\"stat\"][word][\"idf\"];\n",
    "            info[\"tfidf\"]=(tr)*(idf);\n",
    "        #end of a word\n",
    "    #end of a doc\n",
    "    return docs;\n",
    "#end of scan_doc_list\n",
    "\n",
    "\n",
    "class prediction:\n",
    "    def __init__(self,indataset):\n",
    "        self.vector={};#each contain word,index and their idf value\n",
    "        self.map=[];#each contain list of idf,and class\n",
    "        \n",
    "        doc_list={};\n",
    "        for i,entry in enumerate(indataset):\n",
    "            line=entry[\"name\"]+entry[\"desc\"];\n",
    "            cut_list=list(jieba.cut(entry[\"name\"]))+list(jieba.cut(entry[\"desc\"]));\n",
    "            doc_list[line]=cut_list;\n",
    "        #end of making thing from list\n",
    "        \n",
    "        #yes,code resused\n",
    "        docs=scan_doc_list(doc_list);\n",
    "        \n",
    "        #converter them into vector\n",
    "        for entry in docs[\"stat\"].values():\n",
    "            self.vector[entry[\"name\"]]={\"idf\":entry[\"idf\"]};\n",
    "        \n",
    "        for entry in docs[\"doc\"].values():\n",
    "            point={};\n",
    "            for word,info in entry[\"stat\"].items():\n",
    "                print(info);\n",
    "                point[word]={\"tfidf\":info[\"tfidf\"]};\n",
    "            self.map.append(point);\n",
    "                \n",
    "        print(self.map);\n",
    "        \n",
    "        return;\n",
    "    #end of __init\n",
    "#end of prediction\n",
    "\n",
    "prediction(things[\"data\"][0:1])"
   ]
  },
  {
   "cell_type": "code",
   "execution_count": null,
   "metadata": {},
   "outputs": [],
   "source": []
  }
 ],
 "metadata": {
  "kernelspec": {
   "display_name": "Python 3",
   "language": "python",
   "name": "python3"
  },
  "language_info": {
   "codemirror_mode": {
    "name": "ipython",
    "version": 3
   },
   "file_extension": ".py",
   "mimetype": "text/x-python",
   "name": "python",
   "nbconvert_exporter": "python",
   "pygments_lexer": "ipython3",
   "version": "3.7.6"
  }
 },
 "nbformat": 4,
 "nbformat_minor": 4
}
