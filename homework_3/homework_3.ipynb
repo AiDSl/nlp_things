{
 "cells": [
  {
   "cell_type": "code",
   "execution_count": 2,
   "metadata": {},
   "outputs": [
    {
     "name": "stderr",
     "output_type": "stream",
     "text": [
      "Paddle enabled successfully......\n"
     ]
    },
    {
     "name": "stdout",
     "output_type": "stream",
     "text": [
      "done!\n"
     ]
    }
   ],
   "source": [
    "import jieba;\n",
    "jieba.enable_paddle();\n",
    "#ya,I think jieba are kinda magical\n",
    "\n",
    "import copy;\n",
    "import math;\n",
    "import json;\n",
    "import requests;\n",
    "from random import randrange\n",
    "from bs4 import BeautifulSoup;\n",
    "\n",
    "\n",
    "\n",
    "things={};\n",
    "with open(\"./output415-Copy1.txt\",encoding='utf-8') as ifile:\n",
    "    things=json.loads(ifile.read());\n",
    "print(\"done!\");"
   ]
  },
  {
   "cell_type": "code",
   "execution_count": 10,
   "metadata": {},
   "outputs": [
    {
     "name": "stdout",
     "output_type": "stream",
     "text": [
      "{'name': '蝙蝠俠', 'link': 'https://movies.yahoo.com.tw/movieinfo_main/%E8%9D%99%E8%9D%A0%E4%BF%A0-the-batman-10904', 'when': '2022-03-04', 'desc': '《蝙蝠俠》將聚焦於一個年輕版本的布魯斯韋恩，並從中檢視他在面罩之下的靈魂。羅伯派汀森將在新版《蝙蝠俠》中飾演這位DC超級英雄，電影是由《猩球崛起：終極決戰》導演麥特李維斯（Matt Reeves）所執導。', 'class': ['動作', '犯罪']}\n"
     ]
    }
   ],
   "source": [
    "print(things[\"data\"][1]);"
   ]
  },
  {
   "cell_type": "code",
   "execution_count": 42,
   "metadata": {},
   "outputs": [
    {
     "name": "stdout",
     "output_type": "stream",
     "text": [
      "[{'小小': 0.0, '兵': 0.0, '2': 0.0, '：': 0.0, '格魯': 0.0, '的': 0.0, '崛起': 0.0, '今年': 0.0, '暑假': 0.0, '，': 0.0, '影史': 0.0, '最賣': 0.0, '座': 0.0, '動畫': 0.0, '電影': 0.0, '系列': 0.0, '之一': 0.0, '和': 0.0, '風靡': 0.0, '全球': 0.0, '現象': 0.0, '即將': 0.0, '帶來關': 0.0, '於': 0.0, '一個': 0.0, '12': 0.0, '歲': 0.0, '小男孩': 0.0, '故事': 0.0, '他夢想': 0.0, '成為': 0.0, '世上': 0.0, '最偉大': 0.0, '超級': 0.0, '大壞': 0.0, '蛋': 0.0, '。': 0.0, '這部': 0.0, '全新': 0.0, '喜劇動': 0.0, '作片': 0.0, '就是': 0.0, '《': 0.0, '》': 0.0, '\\r\\n': 0.0, '\\xa0': 0.0, '充滿': 0.0, '了': 0.0, '照明': 0.0, '娛樂': 0.0, '招牌': 0.0, '顛覆性': 0.0, '無厘頭': 0.0, '喜劇橋': 0.0, '段': 0.0, '、': 0.0, '各種': 0.0, '大眾': 0.0, '文化': 0.0, '笑': 0.0, '梗': 0.0, '感人肺腑': 0.0, '劇情': 0.0, '勁': 0.0, '爆': 0.0, '配樂': 0.0, '以及': 0.0, '宇宙': 0.0, '無敵': 0.0, '誇張': 0.0, '動作': 0.0, '場面': 0.0, '一片': 0.0, '由': 0.0, '這個': 0.0, '原創': 0.0, '掌舵': 0.0, '製': 0.0, '片': 0.0, '包括': 0.0, '娛樂極': 0.0, '具遠': 0.0, '見': 0.0, '創辦': 0.0, '人': 0.0, '執行長': 0.0, '克里斯': 0.0, '梅勒丹': 0.0, '德利': 0.0, '他': 0.0, '長': 0.0, '期': 0.0, '合作': 0.0, '夥伴': 0.0, '珍娜': 0.0, '海莉': 0.0, '雷納德': 0.0, '導演': 0.0, '凱爾巴爾達': 0.0, '（': 0.0, '神偷': 0.0, '奶爸': 0.0, '3': 0.0, '）': 0.0, '則': 0.0, '再度': 0.0, '回歸': 0.0, '執導': 0.0, '共同': 0.0, '是': 0.0, '布萊德': 0.0, '艾柏森': 0.0, '壽喜劇': 0.0, '影集': 0.0, '辛普森': 0.0, '家庭': 0.0, '強納森': 0.0, '戴': 0.0, '凡': 0.0, '寵物': 0.0, '當家': 0.0}]\n"
     ]
    },
    {
     "data": {
      "text/plain": [
       "<__main__.prediction at 0x1efa5e05b88>"
      ]
     },
     "execution_count": 42,
     "metadata": {},
     "output_type": "execute_result"
    }
   ],
   "source": [
    "\n",
    "def scan_doc(inname,inlist):\n",
    "    doc={\n",
    "        \"name\":inname,\n",
    "        \"total_word_count\":0,\n",
    "        \"stat\":{}# word -> {count,idf}\n",
    "    };\n",
    "    \n",
    "    #scan thorogh list\n",
    "    for word in inlist:\n",
    "        if word in doc[\"stat\"]:\n",
    "            doc[\"stat\"][word][\"count\"]+=1;\n",
    "        else:\n",
    "            doc[\"stat\"][word]={};\n",
    "            doc[\"stat\"][word][\"name\"]=word;\n",
    "            doc[\"stat\"][word][\"source\"]=inname;\n",
    "            doc[\"stat\"][word][\"count\"]=1;\n",
    "        doc[\"total_word_count\"]+=1;\n",
    "    #end of loop\n",
    "   \n",
    "    return doc;\n",
    "#end of scan_doc\n",
    "\n",
    "def scan_doc_list(inlist):\n",
    "    docs={\n",
    "        \"total_doc_count\":0,\n",
    "        \"total_word_count\":0,\n",
    "        \"stat\":{},# word -> {count,idf}\n",
    "        \"doc\":{}#line -> doc\n",
    "    };\n",
    "    \n",
    "    #scan every doc in lista\n",
    "    for line,line_of_list in inlist.items():\n",
    "        doc=scan_doc(line,line_of_list);\n",
    "        docs[\"doc\"][line]=doc;\n",
    "        #merge stat loop\n",
    "        for word,info in doc[\"stat\"].items():\n",
    "            if word in docs[\"stat\"]:\n",
    "                docs[\"stat\"][word][\"count\"]+=doc[\"stat\"][word][\"count\"];\n",
    "                docs[\"stat\"][word][\"doc_count\"]+=1;\n",
    "            else:\n",
    "                docs[\"stat\"][word]={};\n",
    "                docs[\"stat\"][word][\"name\"]=word;\n",
    "                docs[\"stat\"][word][\"count\"]=copy.deepcopy(doc[\"stat\"][word][\"count\"]);\n",
    "                docs[\"stat\"][word][\"doc_count\"]=1;\n",
    "        #end of merge loop\n",
    "        docs[\"total_doc_count\"]+=1;\n",
    "        docs[\"total_word_count\"]+=doc[\"total_word_count\"];\n",
    "    #end of scan\n",
    "    \n",
    "    for word,info in docs[\"stat\"].items():\n",
    "        info[\"idf\"]=math.log((docs[\"total_doc_count\"])/(info[\"doc_count\"]),10);\n",
    "    #end of idf cal\n",
    "    \n",
    "    for word,doc in docs[\"doc\"].items():\n",
    "        for word,info in doc[\"stat\"].items():\n",
    "            tr=(info[\"count\"])/(doc[\"total_word_count\"]);\n",
    "            idf=docs[\"stat\"][word][\"idf\"];\n",
    "            info[\"tfidf\"]=(tr)*(idf);\n",
    "        #end of a word\n",
    "    #end of a doc\n",
    "    return docs;\n",
    "#end of scan_doc_list\n",
    "\n",
    "\n",
    "class prediction:\n",
    "    def __init__(self,indataset):\n",
    "        self.vector={};#each contain word,index and their idf value\n",
    "        self.map=[];#each contain list of idf,and class\n",
    "        \n",
    "        doc_list={};\n",
    "        for i,entry in enumerate(indataset):\n",
    "            line=entry[\"name\"]+entry[\"desc\"];\n",
    "            cut_list=list(jieba.cut(entry[\"name\"]))+list(jieba.cut(entry[\"desc\"]));\n",
    "            doc_list[line]=cut_list;\n",
    "        #end of making thing from list\n",
    "        \n",
    "        #yes,code resused\n",
    "        docs=scan_doc_list(doc_list);\n",
    "        \n",
    "        #converter them into vector\n",
    "        for entry in docs[\"stat\"].values():\n",
    "            self.vector[entry[\"name\"]]={\"idf\":entry[\"idf\"]};\n",
    "        \n",
    "        for entry in docs[\"doc\"].values():\n",
    "            point={};\n",
    "            for word,info in entry[\"stat\"].items():\n",
    "                point[word]=info[\"tfidf\"];\n",
    "            self.map.append(point);\n",
    "                \n",
    "        print(self.map);\n",
    "        return;\n",
    "    def predict():\n",
    "        return;\n",
    "    #end of __init\n",
    "#end of prediction\n",
    "\n",
    "prediction(things[\"data\"][0:1])"
   ]
  },
  {
   "cell_type": "code",
   "execution_count": null,
   "metadata": {},
   "outputs": [],
   "source": []
  }
 ],
 "metadata": {
  "kernelspec": {
   "display_name": "Python 3",
   "language": "python",
   "name": "python3"
  },
  "language_info": {
   "codemirror_mode": {
    "name": "ipython",
    "version": 3
   },
   "file_extension": ".py",
   "mimetype": "text/x-python",
   "name": "python",
   "nbconvert_exporter": "python",
   "pygments_lexer": "ipython3",
   "version": "3.7.6"
  }
 },
 "nbformat": 4,
 "nbformat_minor": 4
}
