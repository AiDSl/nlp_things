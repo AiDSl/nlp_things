{
 "cells": [
  {
   "cell_type": "code",
   "execution_count": 167,
   "metadata": {},
   "outputs": [
    {
     "name": "stderr",
     "output_type": "stream",
     "text": [
      "Paddle enabled successfully......\n"
     ]
    },
    {
     "name": "stdout",
     "output_type": "stream",
     "text": [
      "done!\n"
     ]
    }
   ],
   "source": [
    "import jieba;\n",
    "jieba.enable_paddle();\n",
    "\n",
    "import copy;\n",
    "import math;\n",
    "\n",
    "def tridf(infilename):\n",
    "    doc_list={};\n",
    "    with open(infilename,\"rt\",encoding='utf-8') as ifile:\n",
    "        for line in ifile :\n",
    "            list_of_line=jieba.cut(line);\n",
    "            doc_list[line]=list_of_line; \n",
    "    result=scan_doc_list(doc_list);\n",
    "    return result;\n",
    "#tridf ends\n",
    "\n",
    "def scan_doc_list(inlist):\n",
    "    docs={\n",
    "        \"total_doc_count\":0,\n",
    "        \"total_word_count\":0,\n",
    "        \"stat\":{},# word -> {count,idf}\n",
    "        \"doc\":{}#line -> doc\n",
    "    };\n",
    "    \n",
    "    #scan every doc in lista\n",
    "    for line,line_of_list in inlist.items():\n",
    "        doc=scan_doc(line,line_of_list);\n",
    "        docs[\"doc\"][line]=doc;\n",
    "        #merge stat loop\n",
    "        for word,info in doc[\"stat\"].items():\n",
    "            if word in docs[\"stat\"]:\n",
    "                docs[\"stat\"][word][\"count\"]+=doc[\"stat\"][word][\"count\"];\n",
    "            else:\n",
    "                docs[\"stat\"][word]={};\n",
    "                docs[\"stat\"][word][\"name\"]=word;\n",
    "                docs[\"stat\"][word][\"count\"]=copy.deepcopy(doc[\"stat\"][word][\"count\"]);\n",
    "        #end of merge loop\n",
    "        docs[\"total_doc_count\"]+=1;\n",
    "        docs[\"total_word_count\"]+=doc[\"total_word_count\"];\n",
    "    #end of scan\n",
    "    \n",
    "    for word,info in docs[\"stat\"].items():\n",
    "        info[\"idf\"]=math.log((docs[\"total_word_count\"]*docs[\"total_doc_count\"])/(info[\"count\"]),10);\n",
    "    #end of idf cal\n",
    "    \n",
    "    for word,doc in docs[\"doc\"].items():\n",
    "        for word,info in doc[\"stat\"].items():\n",
    "            tr=(info[\"count\"])/(doc[\"total_word_count\"]);\n",
    "            idf=docs[\"stat\"][word][\"idf\"];\n",
    "            info[\"tfidf\"]=(tr)*(idf);\n",
    "        #end of a word\n",
    "    #end of a doc\n",
    "    return docs;\n",
    "#end of scan_doc_list\n",
    "\n",
    "def scan_doc(inname,inlist):\n",
    "    doc={\n",
    "        \"name\":inname,\n",
    "        \"total_word_count\":0,\n",
    "        \"stat\":{}# word -> {count,idf}\n",
    "    };\n",
    "    \n",
    "    #scan thorogh list\n",
    "    for word in inlist:\n",
    "        if word in doc[\"stat\"]:\n",
    "            doc[\"stat\"][word][\"count\"]+=1;\n",
    "        else:\n",
    "            doc[\"stat\"][word]={};\n",
    "            doc[\"stat\"][word][\"name\"]=word;\n",
    "            doc[\"stat\"][word][\"source\"]=inname;\n",
    "            doc[\"stat\"][word][\"count\"]=1;\n",
    "        doc[\"total_word_count\"]+=1;\n",
    "    #end of loop\n",
    "   \n",
    "    return doc;\n",
    "#end of scan_doc\n",
    "\n",
    "\n",
    "\n",
    "if False:\n",
    "    '''\n",
    "with open(\"./output.txt\",\"x\",encoding='utf-8') as ifile:\n",
    "    print(\"opened!\");\n",
    "    log=str(tridf(\"./hw1-dataset.txt\")[\"stat\"])\n",
    "    print(\"calculated!\");\n",
    "    ifile.write(log);\n",
    "print(\"done!\");\n",
    "    '''\n",
    "result=tridf(\"./hw1-dataset.txt\");\n",
    "#result=tridf(\"./test.txt\");\n",
    "print(\"done!\");"
   ]
  },
  {
   "cell_type": "code",
   "execution_count": 168,
   "metadata": {},
   "outputs": [
    {
     "name": "stdout",
     "output_type": "stream",
     "text": [
      "8253753\n"
     ]
    }
   ],
   "source": [
    "print(result[\"total_word_count\"]);"
   ]
  },
  {
   "cell_type": "code",
   "execution_count": 169,
   "metadata": {},
   "outputs": [
    {
     "data": {
      "text/plain": [
       "415845"
      ]
     },
     "execution_count": 169,
     "metadata": {},
     "output_type": "execute_result"
    }
   ],
   "source": [
    "result[\"total_doc_count\"]"
   ]
  },
  {
   "cell_type": "code",
   "execution_count": 170,
   "metadata": {},
   "outputs": [
    {
     "name": "stdout",
     "output_type": "stream",
     "text": [
      "[('\\t', {'name': '\\t', 'count': 415845, 'idf': 6.9166514681345515}), ('\\n', {'name': '\\n', 'count': 415845, 'idf': 6.9166514681345515}), ('的', {'name': '的', 'count': 315956, 'idf': 7.0359563451296925}), (' ', {'name': ' ', 'count': 292864, 'idf': 7.068916962385262}), ('有', {'name': '有', 'count': 201318, 'idf': 7.231700344919767}), ('?', {'name': '?', 'count': 160683, 'idf': 7.329613020610023}), ('？', {'name': '？', 'count': 160003, 'idf': 7.331454826552996}), ('是', {'name': '是', 'count': 100049, 'idf': 7.535370199978011}), ('沒', {'name': '沒', 'count': 93068, 'idf': 7.566782570983243}), ('嗎', {'name': '嗎', 'count': 89398, 'idf': 7.5842551492271}), ('，', {'name': '，', 'count': 89075, 'idf': 7.585827121131063}), ('八卦', {'name': '八卦', 'count': 78508, 'idf': 7.640669038353705}), ('了', {'name': '了', 'count': 76942, 'idf': 7.649419481157133}), ('都', {'name': '都', 'count': 63742, 'idf': 7.731157266167689}), ('你', {'name': '你', 'count': 62583, 'idf': 7.739126574356765}), ('人', {'name': '人', 'count': 61062, 'idf': 7.74981192725307}), ('在', {'name': '在', 'count': 58481, 'idf': 7.768568161891578}), ('什麼', {'name': '什麼', 'count': 57435, 'idf': 7.776406326750747}), ('我', {'name': '我', 'count': 48818, 'idf': 7.8470029690999015}), ('就', {'name': '就', 'count': 47492, 'idf': 7.858962493023259}), ('好', {'name': '好', 'count': 42576, 'idf': 7.906418094946803}), ('要', {'name': '要', 'count': 37191, 'idf': 7.965145096230123}), ('不', {'name': '不', 'count': 36688, 'idf': 7.971058914768253}), ('說', {'name': '說', 'count': 36462, 'idf': 7.973742465423156}), ('台灣', {'name': '台灣', 'count': 35639, 'idf': 7.98365744255176}), ('去', {'name': '去', 'count': 35477, 'idf': 7.985636064177383}), ('會', {'name': '會', 'count': 34464, 'idf': 7.998217270536228}), ('跟', {'name': '跟', 'count': 33072, 'idf': 8.016122492870904}), ('怎麼', {'name': '怎麼', 'count': 33018, 'idf': 8.016832188959317}), ('為', {'name': '為', 'count': 30690, 'idf': 8.048586063722293}), ('很', {'name': '很', 'count': 29998, 'idf': 8.058490651365055}), ('被', {'name': '被', 'count': 29273, 'idf': 8.069115719413478}), ('啊', {'name': '啊', 'count': 28197, 'idf': 8.085380047833088}), ('也', {'name': '也', 'count': 24526, 'idf': 8.14595622822739}), ('吃', {'name': '吃', 'count': 23859, 'idf': 8.157930714981697}), ('可以', {'name': '可以', 'count': 23130, 'idf': 8.171407319383498}), ('肥宅', {'name': '肥宅', 'count': 21614, 'idf': 8.200847805022283}), ('是不是', {'name': '是不是', 'count': 21417, 'idf': 8.204824315475859}), ('到', {'name': '到', 'count': 20843, 'idf': 8.216622723626577}), ('想', {'name': '想', 'count': 20537, 'idf': 8.223045949046814}), ('來', {'name': '來', 'count': 17215, 'idf': 8.299675925113423}), ('看', {'name': '看', 'count': 17109, 'idf': 8.30235832584935}), ('真的', {'name': '真的', 'count': 16780, 'idf': 8.310790995661435}), ('後', {'name': '後', 'count': 16245, 'idf': 8.324863236473115}), ('錢', {'name': '錢', 'count': 16093, 'idf': 8.32894594087058}), ('吧', {'name': '吧', 'count': 15747, 'idf': 8.338385124666313}), ('幹', {'name': '幹', 'count': 15489, 'idf': 8.345559572387232}), ('他', {'name': '他', 'count': 14990, 'idf': 8.359781319305837}), ('比', {'name': '比', 'count': 14338, 'idf': 8.3790943761041}), ('知道', {'name': '知道', 'count': 14027, 'idf': 8.38861815516437}), ('才', {'name': '才', 'count': 13881, 'idf': 8.393162197934556}), ('辦', {'name': '辦', 'count': 13876, 'idf': 8.393318660984093}), ('自己', {'name': '自己', 'count': 13484, 'idf': 8.405764208305182}), ('多', {'name': '多', 'count': 13156, 'idf': 8.4164590873435}), ('誰', {'name': '誰', 'count': 12886, 'idf': 8.425464825143788}), ('!', {'name': '!', 'count': 12742, 'idf': 8.430345351408095}), ('！', {'name': '！', 'count': 12073, 'idf': 8.453767751521836}), ('不是', {'name': '不是', 'count': 11880, 'idf': 8.460766511508941}), ('上', {'name': '上', 'count': 11658, 'idf': 8.468958901170689}), ('阿', {'name': '阿', 'count': 11332, 'idf': 8.481276386305717}), ('現在', {'name': '現在', 'count': 11222, 'idf': 8.485512687786677}), ('買', {'name': '買', 'count': 11160, 'idf': 8.487918757552558}), ('就是', {'name': '就是', 'count': 10963, 'idf': 8.495653538045557}), ('啦', {'name': '啦', 'count': 10872, 'idf': 8.499273508429678}), ('最', {'name': '最', 'count': 10712, 'idf': 8.505712388150164}), ('不會', {'name': '不會', 'count': 10699, 'idf': 8.50623976463501}), ('如果', {'name': '如果', 'count': 10639, 'idf': 8.508682143263862}), ('還是', {'name': '還是', 'count': 10531, 'idf': 8.513113339386347}), ('一個', {'name': '一個', 'count': 10485, 'idf': 8.515014517352753}), ('對', {'name': '對', 'count': 10456, 'idf': 8.51621737758163}), ('喔', {'name': '喔', 'count': 10416, 'idf': 8.51788198093}), ('把', {'name': '把', 'count': 10299, 'idf': 8.522787894008705}), ('該', {'name': '該', 'count': 10255, 'idf': 8.524647287449731}), ('中國', {'name': '中國', 'count': 10182, 'idf': 8.527749859452797}), ('一堆', {'name': '一堆', 'count': 10043, 'idf': 8.533719489461593}), ('。', {'name': '。', 'count': 9732, 'idf': 8.547380851895335}), ('用', {'name': '用', 'count': 9640, 'idf': 8.551505918251287}), ('這樣', {'name': '這樣', 'count': 9619, 'idf': 8.552453027419416}), ('有人', {'name': '有人', 'count': 9617, 'idf': 8.552543336108014}), ('做', {'name': '做', 'count': 9485, 'idf': 8.558545616929436}), ('又', {'name': '又', 'count': 9474, 'idf': 8.559049571762179}), ('~', {'name': '~', 'count': 9449, 'idf': 8.560197103164649}), ('話', {'name': '話', 'count': 9225, 'idf': 8.570616577323017}), (',', {'name': ',', 'count': 9211, 'idf': 8.571276169850181}), ('較', {'name': '較', 'count': 8908, 'idf': 8.585802743792115}), ('和', {'name': '和', 'count': 8883, 'idf': 8.587023290045156}), ('怎樣', {'name': '怎樣', 'count': 8802, 'idf': 8.591001587927192}), ('時候', {'name': '時候', 'count': 8758, 'idf': 8.59317801129801}), ('女生', {'name': '女生', 'count': 8582, 'idf': 8.601994441957464}), ('日本', {'name': '日本', 'count': 8539, 'idf': 8.604175938597542}), ('聽', {'name': '聽', 'count': 8473, 'idf': 8.607545745747233}), ('一樣', {'name': '一樣', 'count': 8461, 'idf': 8.608161257103697}), ('到底', {'name': '到底', 'count': 8416, 'idf': 8.610477225344452}), ('得', {'name': '得', 'count': 8259, 'idf': 8.618655486041124}), ('不要', {'name': '不要', 'count': 8198, 'idf': 8.621875038173634}), ('讓', {'name': '讓', 'count': 8186, 'idf': 8.622511211844866}), ('打', {'name': '打', 'count': 8166, 'idf': 8.623573576567138}), ('卦', {'name': '卦', 'count': 8093, 'idf': 8.627473411761564}), ('能', {'name': '能', 'count': 7850, 'idf': 8.640713295408863}), ('大家', {'name': '大家', 'count': 7848, 'idf': 8.640823957782224})]\n"
     ]
    }
   ],
   "source": [
    "stat=result[\"stat\"];\n",
    "stat_view=sorted(stat.items(),reverse=True,key=lambda i:i[1][\"count\"]);\n",
    "print(stat_view[0:100]);"
   ]
  },
  {
   "cell_type": "code",
   "execution_count": 171,
   "metadata": {},
   "outputs": [
    {
     "name": "stdout",
     "output_type": "stream",
     "text": [
      "[{'name': '咩', 'source': '咩～\\t咩咩咩咩咩咩咩咩咩咩咩咩咩咩咩咩咩咩咩咩咩咩咩咩\\n', 'count': 25, 'tfidf': 8.715889738547252}, {'name': '嘿嘿', 'source': '嘿嘿嘿嘿 ?\\t嘿嘿嘿嘿嘿嘿嘿嘿嘿嘿嘿嘿嘿嘿嘿嘿嘿嘿嘿嘿\\n', 'count': 12, 'tfidf': 8.052181802025402}, {'name': '鞥', 'source': '鞥這個字\\t鞥鞥鞥鞥鞥鞥鞥鞥鞥鞥鞥\\n', 'count': 12, 'tfidf': 7.849842073541152}, {'name': '▍', 'source': '▍▍▍▍▍▍▍迪馬希▍▍▍▍▍▍▍▍▍\\t擅長聲音的朋友\\n', 'count': 16, 'tfidf': 7.83083780953133}, {'name': '卍', 'source': '卍注音已經變綁丐了\\t卍卍卍卍卍卍卍卍卍卍卍卍卍卍卍卍卍卍\\n', 'count': 19, 'tfidf': 7.816843975650783}, {'name': '喵', 'source': '苗看多會變成什麼\\t喵喵喵喵喵喵喵喵喵喵喵喵喵喵喵喵喵喵喵喵喵喵喵喵\\n', 'count': 24, 'tfidf': 7.689456793060334}, {'name': '噢', 'source': '噢噢噢噢噢噢噢噢噢噢!!\\t噢噢噢噢噢噢噢噢噢…結冰惹\\n', 'count': 19, 'tfidf': 7.620734102600718}, {'name': '嫑', 'source': '不要不要 是否過譽了?\\t嫑嫑嫑嫑嫑嫑嫑嫑嫑嫑嫑嫑嫑嫑嫑嫑嫑嫑嫑嫑嫑嫑嫑嫑\\n', 'count': 24, 'tfidf': 7.523819093806417}, {'name': '國國國', 'source': '國國國國國國國國國國國國國國國國國國國\\t國國國國國國國國國國國國國國國國國國國國國民黨工\\n', 'count': 11, 'tfidf': 7.32515393491291}, {'name': '﹎', 'source': '﹎﹎﹎﹎﹎﹎﹎﹎﹎﹎﹎﹎﹎﹎\\t此線對折有好笑到\\n', 'count': 14, 'tfidf': 7.247834946848286}, {'name': '簽拉', 'source': '國軍很爽有詐嗎\\t簽拉簽拉簽拉簽拉簽拉簽拉簽拉簽拉簽拉簽拉簽拉\\n', 'count': 11, 'tfidf': 7.2426331167441775}, {'name': '龘', 'source': '筆劃最多的是那個字啊？？？\\t龘龘龘龘龘龘龘龘龘龘龘龘龘龘龘龘龘龘龘龘龘龘龘龘\\n', 'count': 24, 'tfidf': 7.154875442487055}, {'name': '反田', 'source': '反田反田反田反田反田反田反田反田反田?\\t公三小 滾喇幹\\n', 'count': 9, 'tfidf': 6.9488042656288735}, {'name': '嘻嘻', 'source': '嘻嘻\\t嘻嘻嘻嘻嘻嘻嘻嘻\\n', 'count': 5, 'tfidf': 6.933516468299141}, {'name': '簽拉', 'source': '軍訓課找憲兵講課\\t簽拉簽拉簽拉簽拉簽拉簽拉簽拉簽拉簽拉簽拉簽拉\\n', 'count': 11, 'tfidf': 6.84026461025839}, {'name': '∷', 'source': '∷∷∷∷∷∷∷∷∷∷∷∷∷∷∷∷陳漢典\\t有名後拋棄女友跟全聯一樣\\n', 'count': 16, 'tfidf': 6.714941018961891}, {'name': '!', 'source': 'No Buts!!!!!!!!!!!!!!!!!!!!!!!!!!!!!!!\\t講中文ok\\n', 'count': 31, 'tfidf': 6.701043740862844}, {'name': '甩', 'source': '要給肥宅玩什麼玩具\\t甩甩甩甩甩甩甩甩甩甩甩\\n', 'count': 11, 'tfidf': 6.571122871462801}, {'name': '啦', 'source': '啦啦啦啦啦啦 啦 啦啦啦啦啦啦\\t啦三小啦幹 啦啦啦啦啦啦啦啦啦啦啦啦\\n', 'count': 27, 'tfidf': 6.556582420788609}, {'name': '啾', 'source': '包租公沒事排個拉麵也被酸QQ\\t啾啾啾啾啾啾啾啾啾啾啾啾啾啾啾啾啾啾啾啾\\n', 'count': 20, 'tfidf': 6.534866304335588}, {'name': '!', 'source': '超級喜歡郭采潔!!!!!!!!!!!!!!!!!!!!!!!!\\t中國擔憂潔\\n', 'count': 24, 'tfidf': 6.526718981735299}, {'name': '吖', 'source': '口丫這個字到底是三小\\t吖吖吖吖吖吖吖吖吖吖吖吖\\n', 'count': 12, 'tfidf': 6.4911381103419625}, {'name': '欸', 'source': '腳絆倒\\t欸三小 欸欸欸欸欸欸欸欸欸欸欸欸欸欸欸欸欸欸\\n', 'count': 19, 'tfidf': 6.482679415701685}, {'name': '廠廠', 'source': '哪個流行語最礙眼?\\t廠廠廠廠廠廠廠廠廠廠廠廠廠廠廠廠廠廠廠廠廠廠廠廠\\n', 'count': 12, 'tfidf': 6.440290394873376}, {'name': '~', 'source': '阿~~~~~~~~~~~~~~~~~~~~~~~~~~~~~~~~~~~~\\t你發啊的音不會張嘴巴喔？\\n', 'count': 36, 'tfidf': 6.420147827373487}, {'name': '欸', 'source': '欸 雨好大\\t欸三小 欸欸欸欸欸欸欸欸欸欸欸欸欸欸欸欸欸欸\\n', 'count': 20, 'tfidf': 6.336453564219692}, {'name': '欸', 'source': '欸欸！你知道嗎\\t欸欸欸欸欸欸欸欸欸欸欸欸欸\\n', 'count': 15, 'tfidf': 6.336453564219692}, {'name': '欸', 'source': '欸欸欸欸欸欸欸欸欸欸欸欸欸欸欸欸欸\\t怒罰二萬，萬歲萬萬歲\\n', 'count': 17, 'tfidf': 6.283649784517862}, {'name': '!', 'source': '來Nerf這招阿!!!!!!!!!!!!!!!!!!!!!!!!!!\\t幹DVA潮爽\\n', 'count': 26, 'tfidf': 6.262542261046013}, {'name': '欸', 'source': '欸！ 八卦版拿掉廢文還剩下什麼\\t欸欸欸欸欸欸欸欸欸欸欸欸欸欸欸欸欸欸欸欸欸欸欸\\n', 'count': 24, 'tfidf': 6.261907051699461}, {'name': '欸', 'source': '欸，你們跟妹子吃飯沒？\\t欸欸欸欸欸欸欸欸欸欸欸欸欸欸欸欸欸欸欸欸欸欸欸\\n', 'count': 24, 'tfidf': 6.261907051699461}, {'name': '!', 'source': '姆咪不見了!!!!!!!!!!!!!!!!!!!!!!!\\t借轉姆咪版\\n', 'count': 23, 'tfidf': 6.2547723574963285}, {'name': '欸', 'source': '欸為什麼\\t欸三小啊 欸欸欸欸欸欸欸欸欸欸欸欸欸欸欸欸欸\\n', 'count': 19, 'tfidf': 6.242580178083104}, {'name': '啊啊啊', 'source': '活得瀟瀟灑灑?\\t啊啊啊啊啊啊啊啊啊啊啊啊啊啊啊啊啊啊啊啊啊啊啊啊\\n', 'count': 8, 'tfidf': 6.2374826034911255}, {'name': '欸', 'source': '欸欸 母豬跟台女有什麼差別嗎\\t欸欸欸欸欸欸欸欸欸欸欸欸欸欸欸欸欸欸欸欸欸欸欸欸\\n', 'count': 26, 'tfidf': 6.233700263178292}, {'name': '欸', 'source': '欸欸欸！是在欸什麼\\t欸欸欸欸欸欸欸欸欸欸\\n', 'count': 14, 'tfidf': 6.209724492935298}, {'name': '哈哈哈', 'source': 'limoncool \\t哈哈哈哈哈哈哈哈哈哈哈哈哈哈哈哈哈哈哈哈哈哈哈哈\\n', 'count': 8, 'tfidf': 6.205473673242986}, {'name': '$', 'source': '女孩們都怎麼選男森？\\t$$$$$上$$$$$進$$$$$心$$$$$\\n', 'count': 20, 'tfidf': 6.1865359271877685}, {'name': '欸', 'source': '欸欸欸問卦會貼範本的都是誰嘻嘻\\t欸欸欸欸欸欸欸欸欸欸欸欸欸欸欸欸欸欸欸欸\\n', 'count': 23, 'tfidf': 6.182842568723458}, {'name': '錢', 'source': '什麼條件追女生最有利?\\t錢錢錢錢錢錢錢錢錢錢錢錢錢錢錢錢錢錢錢錢錢錢錢\\n', 'count': 23, 'tfidf': 6.1795405367749465}, {'name': '欸', 'source': '真的真的真的嗎？\\t欸欸欸欸欸欸欸欸欸欸欸欸欸欸欸欸\\n', 'count': 16, 'tfidf': 6.171154775587874}, {'name': '皮豆', 'source': '火鍋料的霸主?\\t豆皮豆皮豆皮豆皮豆皮豆皮豆皮豆皮豆皮豆皮豆皮豆皮\\n', 'count': 9, 'tfidf': 6.131297881437242}, {'name': '!', 'source': '超級喜歡徐熙娣!!!!!!!!!!!!!!!!!!!!!!!!\\t滾 超討厭她\\n', 'count': 24, 'tfidf': 6.131160255569523}, {'name': '!', 'source': '超級喜歡王心凌!!!!!!!!!!!!!!!!!!!!!!!!\\t後期長相走樣了\\n', 'count': 24, 'tfidf': 6.131160255569523}, {'name': '!', 'source': '超級喜歡田馥甄!!!!!!!!!!!!!!!!!!!!!!!!\\t開放app好點子\\n', 'count': 24, 'tfidf': 6.131160255569523}, {'name': '!', 'source': '明明一切正常!!!!!!!!!!!!!!!!!!!!!!!!!!\\t中華現在掛proxy就好了\\n', 'count': 26, 'tfidf': 6.088582753794735}, {'name': '欸', 'source': '肥宅起床沒啦\\t欸欸欸欸欸欸欸欸欸欸欸欸欸\\n', 'count': 13, 'tfidf': 6.069655519410442}, {'name': '噁', 'source': '肥宅下雨天穿雨鞋可愛嗎?\\t噁噁噁噁噁噁噁噁噁噁噁噁噁噁噁噁\\n', 'count': 16, 'tfidf': 6.0593638567203145}, {'name': '$', 'source': '有什麼技能最好把妹\\t$$$$$$$$$$$$$$$任何年齡層通用\\n', 'count': 15, 'tfidf': 5.993206679463151}, {'name': '~', 'source': '哦\\u3000眼淚~~~~~~~~~~~~~~~~~~~~~\\t眼淚系列文開始囉\\n', 'count': 21, 'tfidf': 5.992137972215254}, {'name': '欸', 'source': '欸欸欸！颱風對肥宅來說有差嗎？\\t欸欸欸欸欸欸欸欸欸欸欸欸欸欸欸欸欸欸欸欸欸欸欸欸\\n', 'count': 27, 'tfidf': 5.98794861818761}, {'name': 'ㄏ', 'source': '有自拍障礙怎麼辦\\t肥宅自拍？ㄏㄏㄏㄏㄏㄏㄏㄏㄏㄏㄏㄏㄏㄏㄏㄏㄏ\\n', 'count': 17, 'tfidf': 5.981326042863774}, {'name': '!', 'source': '郭金發跌倒!?\\t加油!!!!!郭金發!!!!!!!!!!!\\n', 'count': 17, 'tfidf': 5.971494623914067}, {'name': '!', 'source': '超級喜歡李佳薇!!!!!!!!!!!!!!!!!!!!!!!!\\tJP還不快睡覺rrr\\n', 'count': 24, 'tfidf': 5.950832012758656}, {'name': '喔', 'source': '為什麼薪資低還叫幸福城市?\\t喔喔喔喔喔喔喔喔喔喔喔喔喔 喔喔喔喔喔喔喔喔喔喔\\n', 'count': 23, 'tfidf': 5.936705623072425}, {'name': '哈哈哈', 'source': '早安養樂多\\t哈哈哈哈哈哈哈哈哈哈哈哈哈哈哈哈哈哈哈哈哈\\n', 'count': 7, 'tfidf': 5.923406688095579}, {'name': '尻', 'source': '指考完該怎麼放鬆\\t尻尻尻尻尻尻尻尻尻尻尻尻尻\\n', 'count': 13, 'tfidf': 5.920052046660782}, {'name': '滾', 'source': 'kkabcd\\t滾滾滾滾滾滾滾滾滾\\n', 'count': 7, 'tfidf': 5.915498357813556}, {'name': '喵', 'source': '喵喵之亂?\\t喵喵喵喵喵喵電感應\\n', 'count': 8, 'tfidf': 5.914966763892564}, {'name': '欸', 'source': '欸，腳踏車該騎在人行道還是馬路上\\t欸欸欸欸欸欸欸欸欸欸欸欸欸欸欸欸欸欸欸欸欸\\n', 'count': 22, 'tfidf': 5.9140233266050455}, {'name': '欸', 'source': '欸欸欸!太陽太大怎麼辦!\\t欸欸欸欸欸欸欸欸欸欸欸欸欸欸欸三小\\n', 'count': 18, 'tfidf': 5.9140233266050455}, {'name': '喔', 'source': '連不上ptt會焦慮嗎\\t喔喔欸欸喔喔喔喔喔喔喔喔喔喔喔喔喔喔喔喔喔喔\\n', 'count': 20, 'tfidf': 5.8744013661586205}, {'name': 'あ', 'source': '老婆：はああああああああああああつ\\t強點好嗎?\\n', 'count': 12, 'tfidf': 5.871671422097439}, {'name': '!', 'source': '新北新莊尋人\\t高調!!!!!!!高調!!!!!!!!!\\n', 'count': 16, 'tfidf': 5.8645880705447615}, {'name': '北車', 'source': '現在北車附近有什麼好吃的？\\t北車北車北車北車北車北車北車北車北車北車\\n', 'count': 11, 'tfidf': 5.841566644088721}, {'name': '喔', 'source': '戰鼓Patapon\\t喔喔喔喔喔喔喔喔喔喔喔喔喔喔喔~~~\\n', 'count': 15, 'tfidf': 5.8076468051795445}, {'name': '!', 'source': '!!!!!!中華民國!!!全面淪陷!!!!!!!!!!!!!\\t中華民國自由區淪陷啦\\n', 'count': 22, 'tfidf': 5.795862429093065}, {'name': '\\\\', 'source': '好想尿尿>\\\\\\\\\\\\\\\\\\\\\\\\\\\\\\\\\\\\\\\\\\\\\\\\\\\\\\\\\\\\\\\\\\\\\\\\\\\\<\\t偽物滾好嗎？\\n', 'count': 19, 'tfidf': 5.782536367497814}, {'name': '!', 'source': '超級喜歡林憶蓮!!!!!!!!!!!!!!!!!!!!!!!!\\t越問越過氣欸 給力哥\\n', 'count': 24, 'tfidf': 5.780808240965551}, {'name': '賀賀', 'source': '賀賀賀賀賀賀賀賀賀賀賀賀\\t2016夢中情人賀國平\\n', 'count': 6, 'tfidf': 5.767791476077058}, {'name': '欸', 'source': '欸 幹嘛亂噓人\\t欸欸欸欸欸欸欸欸欸欸欸欸\\n', 'count': 13, 'tfidf': 5.76617274343992}, {'name': '欸', 'source': '聖光是什麼樣子\\t欸欸欸欸欸欸欸欸欸欸欸\\n', 'count': 11, 'tfidf': 5.740081464057839}, {'name': '欸', 'source': '最近發文標題前面要加\"欸\"的八卦\\t欸欸欸欸欸欸欸欸欸欸欸欸欸欸欸欸欸欸欸\\n', 'count': 20, 'tfidf': 5.723248380585528}, {'name': '欸', 'source': '包裝真正目的\\t欸三小 欸欸欸欸欸欸欸欸欸欸欸欸欸欸欸唉\\n', 'count': 16, 'tfidf': 5.677462393540845}, {'name': '欸', 'source': '欸 是在欸三小啦\\t欸欸欸欸欸欸欸欸欸欸欸欸\\n', 'count': 14, 'tfidf': 5.645204084486635}, {'name': '欸', 'source': '欸欸欸 含糖飲料好喝在哪\\t欸欸欸欸欸欸欸欸欸欸欸\\n', 'count': 14, 'tfidf': 5.645204084486635}, {'name': '啾', 'source': '五樓XXX是什麼梗?\\t啾啾啾啾啾啾啾啾啾啾\\n', 'count': 10, 'tfidf': 5.627245984288979}, {'name': '!', 'source': '超級喜歡范瑋琪!!!!!!!!!!!!!!!!!!!!!!!!\\t就整天業配家裡大小事當新聞啊\\n', 'count': 24, 'tfidf': 5.6202302342720625}, {'name': '!', 'source': '超級喜歡徐佳瑩!!!!!!!!!!!!!!!!!!!!!!!!\\t所以我說到底哪天換白冰冰喇\\n', 'count': 24, 'tfidf': 5.6202302342720625}, {'name': '!', 'source': '要分手就趁現在!!!!!!!!!!!!!!!!!!!!\\t我帥到分手\\n', 'count': 20, 'tfidf': 5.6202302342720625}, {'name': '欸', 'source': '欸欸肥宅下班何處去\\t欸三小啊幹 欸欸欸欸欸欸欸欸欸欸欸欸欸欸欸欸\\n', 'count': 19, 'tfidf': 5.6183221602747935}, {'name': '>', 'source': '綜藝>>>>>>>>>>>>>>>>>>>>>>技術???????\\t觀眾口味>全部\\n', 'count': 23, 'tfidf': 5.611076834166215}, {'name': '哈哈哈', 'source': '哈哈哈哈哈哈哈哈哈哈?\\t哈哈哈哈哈哈哈哈哈哈哈哈\\n', 'count': 6, 'tfidf': 5.584926305918688}, {'name': '哈哈哈', 'source': '火車便當\\t哈哈哈哈哈哈哈哈哈哈哈哈哈哈哈哈哈哈\\n', 'count': 6, 'tfidf': 5.584926305918688}, {'name': ' ', 'source': '學生很想上我                                            的課\\t好重的味道\\n', 'count': 44, 'tfidf': 5.554149041874134}, {'name': '欸', 'source': '欸？\\t欸欸ˋ欸欸欸欸欸欸欸三小\\n', 'count': 10, 'tfidf': 5.544396868692231}, {'name': '欸', 'source': '欸欸欸！有木有半夜廢文連發八卦\\t欸三小 木三小 欸欸欸欸欸欸欸欸欸欸欸欸欸欸欸欸\\n', 'count': 20, 'tfidf': 5.544396868692231}, {'name': '尻', 'source': '邊緣人過年要幹嘛？\\t尻尻尻尻尻尻尻尻尻尻尻尻尻尻\\n', 'count': 14, 'tfidf': 5.54386144837799}, {'name': '?', 'source': '竹南??????????????????????????????????\\t無所謂 國小題目可這個會答就好\\n', 'count': 34, 'tfidf': 5.537929837794239}, {'name': '！', 'source': '盒盒穿短袖出門\\t盒盒發錢錢！！！！！！！！！！！！！！！！！\\n', 'count': 17, 'tfidf': 5.5274635298412}, {'name': '@', 'source': '該如何安全下莊\\t報警 啊@@@@@@@@@@@@@\\n', 'count': 13, 'tfidf': 5.523355515417391}, {'name': '!', 'source': '寒風吹起\\u3000細雨迷離\\t般若波羅蜜!!!!!!!!!!!!!!!!!!!\\n', 'count': 19, 'tfidf': 5.52332971299151}, {'name': '=', 'source': '==========展望文本文以下停PO==========\\t恭喜發財錢拿來\\n', 'count': 20, 'tfidf': 5.520720259817869}, {'name': '欸', 'source': '欸你!有沒有台彩的卦?\\t欸欸欸欸欸欸欸欸欸欸欸欸欸欸欸欸欸\\n', 'count': 18, 'tfidf': 5.506159648908146}, {'name': '!', 'source': '日本地下樂團\\tD!!!!!M!!!!!C!!!!!\\n', 'count': 15, 'tfidf': 5.498051316135714}, {'name': 'ね', 'source': '吶吶～☺ 什麼時候才能娶二次元老婆？\\tね三小啊幹ねねねねねねねねねねねねねねねね\\n', 'count': 17, 'tfidf': 5.480159079838863}, {'name': '!', 'source': '超級喜歡林冠吟!!!!!!!!!!!!!!!!!!!!!!!!\\t好聽 不過去當人妻了\\n', 'count': 24, 'tfidf': 5.468332119832278}, {'name': '欸', 'source': '欸 是不是只有單身肥宅會亂噓人\\t欸欸欸欸欸欸欸欸欸欸欸欸欸欸欸\\n', 'count': 16, 'tfidf': 5.4590984553277355}, {'name': '欸', 'source': '欸, 有沒有預購的八卦\\t欸欸欸欸欸欸欸欸欸欸欸欸欸欸欸\\n', 'count': 16, 'tfidf': 5.4590984553277355}, {'name': '欸', 'source': '肥宅會渴望有朋友嗎？\\t欸三小喇 欸欸欸欸欸欸欸欸欸欸欸欸欸欸欸\\n', 'count': 16, 'tfidf': 5.4590984553277355}]\n"
     ]
    }
   ],
   "source": [
    "def get_doc_stat_list(indoc):\n",
    "    stat=[];\n",
    "    for line,doc in indoc.items():\n",
    "            stat.extend(doc[\"stat\"].values())\n",
    "    return stat;\n",
    "full_stat=get_doc_stat_list(result[\"doc\"])\n",
    "fstat_view=sorted(full_stat,reverse=True,key=lambda i:i[\"tfidf\"]);\n",
    "print(fstat_view[0:100]);"
   ]
  },
  {
   "cell_type": "code",
   "execution_count": 172,
   "metadata": {},
   "outputs": [
    {
     "data": {
      "image/png": "[encoded data removed]",
      "text/plain": [
       "<Figure size 432x288 with 1 Axes>"
      ]
     },
     "metadata": {
      "needs_background": "light"
     },
     "output_type": "display_data"
    }
   ],
   "source": [
    "import matplotlib.pyplot as plt\n",
    "plt.plot([1, 2, 3, 4])\n",
    "plt.ylabel('some numbers')\n",
    "plt.show()"
   ]
  },
  {
   "cell_type": "code",
   "execution_count": null,
   "metadata": {},
   "outputs": [],
   "source": []
  }
 ],
 "metadata": {
  "kernelspec": {
   "display_name": "Python 3",
   "language": "python",
   "name": "python3"
  },
  "language_info": {
   "codemirror_mode": {
    "name": "ipython",
    "version": 3
   },
   "file_extension": ".py",
   "mimetype": "text/x-python",
   "name": "python",
   "nbconvert_exporter": "python",
   "pygments_lexer": "ipython3",
   "version": "3.7.6"
  }
 },
 "nbformat": 4,
 "nbformat_minor": 4
}
