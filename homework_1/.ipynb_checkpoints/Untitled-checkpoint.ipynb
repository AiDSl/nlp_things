{
 "cells": [
  {
   "cell_type": "code",
   "execution_count": 76,
   "metadata": {},
   "outputs": [
    {
     "name": "stderr",
     "output_type": "stream",
     "text": [
      "Paddle enabled successfully......\n"
     ]
    },
    {
     "name": "stdout",
     "output_type": "stream",
     "text": [
      "{'this': {'name': 'this', 'count': 2, 'idf': 7.470224135899966}, ' ': {'name': ' ', 'count': 16, 'idf': 5.390782594220131}, 'is': {'name': 'is', 'count': 1, 'idf': 8.163371316459912}, 'line': {'name': 'line', 'count': 3, 'idf': 7.064759027791802}, '1': {'name': '1', 'count': 1, 'idf': 8.163371316459912}, '\\n': {'name': '\\n', 'count': 14, 'idf': 5.5243139868446525}, '2': {'name': '2', 'count': 1, 'idf': 8.163371316459912}, '4': {'name': '4', 'count': 2, 'idf': 7.470224135899966}, '為': {'name': '為', 'count': 4, 'idf': 6.7770769553400205}, '什麼': {'name': '什麼', 'count': 4, 'idf': 6.7770769553400205}, '聖結石': {'name': '聖結石', 'count': 1, 'idf': 8.163371316459912}, '會': {'name': '會', 'count': 2, 'idf': 7.470224135899966}, '被': {'name': '被', 'count': 3, 'idf': 7.064759027791802}, '酸': {'name': '酸', 'count': 1, 'idf': 8.163371316459912}, '而': {'name': '而', 'count': 1, 'idf': 8.163371316459912}, '這群': {'name': '這群', 'count': 2, 'idf': 7.470224135899966}, '人': {'name': '人', 'count': 4, 'idf': 6.7770769553400205}, '不會': {'name': '不會', 'count': 2, 'idf': 7.470224135899966}, '？': {'name': '？', 'count': 3, 'idf': 7.064759027791802}, '\\t': {'name': '\\t', 'count': 11, 'idf': 5.765476043661541}, '質感': {'name': '質感', 'count': 1, 'idf': 8.163371316459912}, '劇本': {'name': '劇本', 'count': 1, 'idf': 8.163371316459912}, '成員': {'name': '成員', 'count': 1, 'idf': 8.163371316459912}, '都': {'name': '都', 'count': 2, 'idf': 7.470224135899966}, '差': {'name': '差', 'count': 1, 'idf': 8.163371316459912}, '很多': {'name': '很多', 'count': 1, 'idf': 8.163371316459912}, '好': {'name': '好', 'count': 1, 'idf': 8.163371316459912}, '嗎': {'name': '嗎', 'count': 4, 'idf': 6.7770769553400205}, '不要': {'name': '不要', 'count': 1, 'idf': 8.163371316459912}, '拿': {'name': '拿', 'count': 1, 'idf': 8.163371316459912}, '腎': {'name': '腎', 'count': 1, 'idf': 8.163371316459912}, '結石來': {'name': '結石來', 'count': 1, 'idf': 8.163371316459912}, '污辱': {'name': '污辱', 'count': 1, 'idf': 8.163371316459912}, '慶祝': {'name': '慶祝', 'count': 1, 'idf': 8.163371316459912}, '228': {'name': '228', 'count': 1, 'idf': 8.163371316459912}, '罵': {'name': '罵', 'count': 1, 'idf': 8.163371316459912}, '可是': {'name': '可是', 'count': 1, 'idf': 8.163371316459912}, '慶': {'name': '慶', 'count': 1, 'idf': 8.163371316459912}, '端午': {'name': '端午', 'count': 1, 'idf': 8.163371316459912}, '因為': {'name': '因為', 'count': 1, 'idf': 8.163371316459912}, '屈原': {'name': '屈原', 'count': 1, 'idf': 8.163371316459912}, '不是': {'name': '不是', 'count': 1, 'idf': 8.163371316459912}, '台灣': {'name': '台灣', 'count': 1, 'idf': 8.163371316459912}, '，': {'name': '，', 'count': 4, 'idf': 6.7770769553400205}, '是': {'name': '是', 'count': 2, 'idf': 7.470224135899966}, '楚國人': {'name': '楚國人', 'count': 1, 'idf': 8.163371316459912}, '。': {'name': '。', 'count': 2, 'idf': 7.470224135899966}, '有': {'name': '有', 'count': 2, 'idf': 7.470224135899966}, '沒': {'name': '沒', 'count': 1, 'idf': 8.163371316459912}, '戰神': {'name': '戰神', 'count': 1, 'idf': 8.163371316459912}, '阿瑞斯': {'name': '阿瑞斯', 'count': 2, 'idf': 7.470224135899966}, '的': {'name': '的', 'count': 4, 'idf': 6.7770769553400205}, '八卦': {'name': '八卦', 'count': 1, 'idf': 8.163371316459912}, '?': {'name': '?', 'count': 3, 'idf': 7.064759027791802}, '爵士': {'name': '爵士', 'count': 1, 'idf': 8.163371316459912}, '就是': {'name': '就是', 'count': 1, 'idf': 8.163371316459912}, '男主角': {'name': '男主角', 'count': 1, 'idf': 8.163371316459912}, '最後死': {'name': '最後死', 'count': 1, 'idf': 8.163371316459912}, '了': {'name': '了', 'count': 2, 'idf': 7.470224135899966}, '理論': {'name': '理論', 'count': 1, 'idf': 8.163371316459912}, '與': {'name': '與', 'count': 1, 'idf': 8.163371316459912}, '實務': {'name': '實務', 'count': 1, 'idf': 8.163371316459912}, '最': {'name': '最', 'count': 2, 'idf': 7.470224135899966}, '脫節': {'name': '脫節', 'count': 3, 'idf': 7.064759027791802}, '系': {'name': '系', 'count': 2, 'idf': 7.470224135899966}, '哪個': {'name': '哪個', 'count': 1, 'idf': 8.163371316459912}, '不': {'name': '不', 'count': 2, 'idf': 7.470224135899966}, '...': {'name': '...', 'count': 2, 'idf': 7.470224135899966}, '你問': {'name': '你問', 'count': 1, 'idf': 8.163371316459912}, '簡單': {'name': '簡單', 'count': 1, 'idf': 8.163371316459912}, '多': {'name': '多', 'count': 2, 'idf': 7.470224135899966}, 'PTT': {'name': 'PTT', 'count': 1, 'idf': 8.163371316459912}, '這麼': {'name': '這麼', 'count': 1, 'idf': 8.163371316459912}, '看': {'name': '看', 'count': 2, 'idf': 7.470224135899966}, '棒球': {'name': '棒球', 'count': 2, 'idf': 7.470224135899966}, '肥宅': {'name': '肥宅', 'count': 1, 'idf': 8.163371316459912}, '才': {'name': '才', 'count': 1, 'idf': 8.163371316459912}, '\\u3000': {'name': '\\u3000', 'count': 1, 'idf': 8.163371316459912}, '系壘': {'name': '系壘', 'count': 1, 'idf': 8.163371316459912}, '一堆': {'name': '一堆', 'count': 1, 'idf': 8.163371316459912}, '胖子': {'name': '胖子', 'count': 1, 'idf': 8.163371316459912}, '達摩祖': {'name': '達摩祖', 'count': 1, 'idf': 8.163371316459912}, '師傳': {'name': '師傳', 'count': 1, 'idf': 8.163371316459912}, '那麼': {'name': '那麼', 'count': 1, 'idf': 8.163371316459912}, '好看': {'name': '好看', 'count': 1, 'idf': 8.163371316459912}, '達摩': {'name': '達摩', 'count': 1, 'idf': 8.163371316459912}, '從頭': {'name': '從頭', 'count': 1, 'idf': 8.163371316459912}, '到': {'name': '到', 'count': 1, 'idf': 8.163371316459912}, '尾': {'name': '尾', 'count': 1, 'idf': 8.163371316459912}, '被動': {'name': '被動', 'count': 1, 'idf': 8.163371316459912}, '(': {'name': '(', 'count': 1, 'idf': 8.163371316459912}, '別人問': {'name': '別人問', 'count': 1, 'idf': 8.163371316459912}, '他': {'name': '他', 'count': 1, 'idf': 8.163371316459912}, '問題': {'name': '問題', 'count': 1, 'idf': 8.163371316459912}, '3D': {'name': '3D', 'count': 2, 'idf': 7.470224135899966}, '小畫家': {'name': '小畫家', 'count': 1, 'idf': 8.163371316459912}, '有人': {'name': '有人', 'count': 3, 'idf': 7.064759027791802}, '會畫': {'name': '會畫', 'count': 2, 'idf': 7.470224135899966}, '小當家': {'name': '小當家', 'count': 1, 'idf': 8.163371316459912}, '對': {'name': '對', 'count': 1, 'idf': 8.163371316459912}, '天龍': {'name': '天龍', 'count': 1, 'idf': 8.163371316459912}, '人來': {'name': '人來', 'count': 1, 'idf': 8.163371316459912}, '說': {'name': '說', 'count': 1, 'idf': 8.163371316459912}, '宜蘭': {'name': '宜蘭', 'count': 1, 'idf': 8.163371316459912}, '南部': {'name': '南部', 'count': 1, 'idf': 8.163371316459912}, '還': {'name': '還', 'count': 1, 'idf': 8.163371316459912}, '４': {'name': '４', 'count': 1, 'idf': 8.163371316459912}, '東部': {'name': '東部', 'count': 1, 'idf': 8.163371316459912}, '他國': {'name': '他國', 'count': 1, 'idf': 8.163371316459912}, '事務': {'name': '事務', 'count': 1, 'idf': 8.163371316459912}, '..': {'name': '..', 'count': 1, 'idf': 8.163371316459912}, '機車': {'name': '機車', 'count': 1, 'idf': 8.163371316459912}, '推出': {'name': '推出', 'count': 1, 'idf': 8.163371316459912}, 'uber': {'name': 'uber', 'count': 1, 'idf': 8.163371316459912}, '或': {'name': '或', 'count': 1, 'idf': 8.163371316459912}, '計程': {'name': '計程', 'count': 1, 'idf': 8.163371316459912}, '機車會': {'name': '機車會', 'count': 1, 'idf': 8.163371316459912}, '怎樣': {'name': '怎樣', 'count': 1, 'idf': 8.163371316459912}, '載到': {'name': '載到', 'count': 1, 'idf': 8.163371316459912}, '肥宅會': {'name': '肥宅會', 'count': 1, 'idf': 8.163371316459912}, '很': {'name': '很', 'count': 1, 'idf': 8.163371316459912}, '痛苦': {'name': '痛苦', 'count': 1, 'idf': 8.163371316459912}, '台中': {'name': '台中', 'count': 1, 'idf': 8.163371316459912}, '龍邦': {'name': '龍邦', 'count': 1, 'idf': 8.163371316459912}, '世貿': {'name': '世貿', 'count': 1, 'idf': 8.163371316459912}, '跳樓': {'name': '跳樓', 'count': 1, 'idf': 8.163371316459912}, '曾經': {'name': '曾經', 'count': 1, 'idf': 8.163371316459912}, '當過': {'name': '當過', 'count': 1, 'idf': 8.163371316459912}, '全台': {'name': '全台', 'count': 1, 'idf': 8.163371316459912}, '第一': {'name': '第一', 'count': 1, 'idf': 8.163371316459912}, '高樓': {'name': '高樓', 'count': 1, 'idf': 8.163371316459912}, '可惜': {'name': '可惜', 'count': 1, 'idf': 8.163371316459912}, '不到': {'name': '不到', 'count': 1, 'idf': 8.163371316459912}, '一年': {'name': '一年', 'count': 1, 'idf': 8.163371316459912}, '抽到': {'name': '抽到', 'count': 1, 'idf': 8.163371316459912}, '海陸會': {'name': '海陸會', 'count': 1, 'idf': 8.163371316459912}, '笑': {'name': '笑', 'count': 1, 'idf': 8.163371316459912}, '娘': {'name': '娘', 'count': 1, 'idf': 8.163371316459912}, '炮兵': {'name': '炮兵', 'count': 1, 'idf': 8.163371316459912}, '還好': {'name': '還好', 'count': 1, 'idf': 8.163371316459912}, '啦': {'name': '啦', 'count': 1, 'idf': 8.163371316459912}, '海陸下': {'name': '海陸下', 'count': 1, 'idf': 8.163371316459912}, '基地': {'name': '基地', 'count': 1, 'idf': 8.163371316459912}, '常態': {'name': '常態', 'count': 1, 'idf': 8.163371316459912}, '下好': {'name': '下好', 'count': 1, 'idf': 8.163371316459912}, '下滿': {'name': '下滿', 'count': 1, 'idf': 8.163371316459912}}\n"
     ]
    }
   ],
   "source": [
    "import jieba;\n",
    "jieba.enable_paddle();\n",
    "\n",
    "import copy;\n",
    "import math;\n",
    "\n",
    "#stage 1 read file\n",
    "doc_list=[];\n",
    "with open(\"./test.txt\",\"rt\",encoding='utf-8') as ifile:\n",
    "    for line in ifile :\n",
    "        lol=jieba.cut(line);\n",
    "        doc_list.append(lol);\n",
    "#test print\n",
    "#for line in doc_list:\n",
    "#    print('/'.join(line));\n",
    "    \n",
    "\n",
    "def scan_doc_list(inlist):\n",
    "    docs={\n",
    "        \"total_doc_count\":0,\n",
    "        \"total_word_count\":0,\n",
    "        \"stat\":dict(),# word -> {count,idf}\n",
    "        \"doc\":list()#index -> doc\n",
    "    };\n",
    "    \n",
    "    #scan every doc in lista\n",
    "    for raw_doc in inlist:\n",
    "        doc=scan_doc(raw_doc);\n",
    "        docs[\"doc\"].append(doc);\n",
    "        #merge stat loop\n",
    "        for word,info in doc[\"stat\"].items():\n",
    "            if word in docs[\"stat\"]:\n",
    "                docs[\"stat\"][word][\"count\"]+=doc[\"stat\"][word][\"count\"];\n",
    "            else:\n",
    "                docs[\"stat\"][word]={};\n",
    "                docs[\"stat\"][word][\"name\"]=word;\n",
    "                docs[\"stat\"][word][\"count\"]=copy.deepcopy(doc[\"stat\"][word][\"count\"]);\n",
    "        #end of merge loop\n",
    "        docs[\"total_doc_count\"]+=1;\n",
    "        docs[\"total_word_count\"]+=doc[\"total_word_count\"];\n",
    "    #end of scan\n",
    "    \n",
    "    for word,info in docs[\"stat\"].items():\n",
    "        info[\"idf\"]=math.log((docs[\"total_word_count\"]*docs[\"total_doc_count\"])/(info[\"count\"]));\n",
    "    #end of idf cal\n",
    "    \n",
    "    for doc in docs[\"doc\"]:\n",
    "        for word,info in doc[\"stat\"].items():\n",
    "            tr=(info[\"count\"])/(doc[\"total_word_count\"]);\n",
    "            idf=docs[\"stat\"][word][\"idf\"];\n",
    "            info[\"tfidf\"]=(tr)*(idf);\n",
    "        #end of a word\n",
    "    #end of a doc\n",
    "    return docs;\n",
    "#end of scan_doc_list\n",
    "\n",
    "def scan_doc(inlist):\n",
    "    doc={\n",
    "        \"total_word_count\":0,\n",
    "        \"stat\":{}# word -> {count,idf}\n",
    "    };\n",
    "    \n",
    "    #scan thorogh list\n",
    "    for word in inlist:\n",
    "        if word in doc[\"stat\"]:\n",
    "            doc[\"stat\"][word][\"count\"]+=1;\n",
    "        else:\n",
    "            doc[\"stat\"][word]={};\n",
    "            doc[\"stat\"][word][\"name\"]=word;\n",
    "            doc[\"stat\"][word][\"count\"]=1;\n",
    "        doc[\"total_word_count\"]+=1;\n",
    "    #end of loop\n",
    "   \n",
    "    return doc;\n",
    "#end of scan_doc\n",
    "result=scan_doc_list(doc_list)\n",
    "print(result[\"stat\"]);"
   ]
  },
  {
   "cell_type": "code",
   "execution_count": null,
   "metadata": {},
   "outputs": [],
   "source": []
  }
 ],
 "metadata": {
  "kernelspec": {
   "display_name": "Python 3",
   "language": "python",
   "name": "python3"
  },
  "language_info": {
   "codemirror_mode": {
    "name": "ipython",
    "version": 3
   },
   "file_extension": ".py",
   "mimetype": "text/x-python",
   "name": "python",
   "nbconvert_exporter": "python",
   "pygments_lexer": "ipython3",
   "version": "3.7.6"
  }
 },
 "nbformat": 4,
 "nbformat_minor": 4
}
