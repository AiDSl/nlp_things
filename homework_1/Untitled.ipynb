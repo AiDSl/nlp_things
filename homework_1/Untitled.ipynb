{
 "cells": [
  {
   "cell_type": "code",
   "execution_count": 22,
   "metadata": {},
   "outputs": [
    {
     "name": "stdout",
     "output_type": "stream",
     "text": [
      "0: this is line 1\n",
      "\n",
      "1: this line 2\n",
      "\n",
      "2: \n",
      "\n",
      "3: line 4\n",
      "\n",
      "4: 為什麼 聖結石 會被酸而 這群人 不會？\t質感 劇本 成員 都差很多好嗎 不要拿腎結石來污辱這群人\n",
      "\n",
      "5: 為什麼慶祝228會被罵可是慶端午不會？\t因為屈原不是台灣人，是楚國人。\n",
      "\n",
      "6: 有沒有戰神阿瑞斯的八卦?\t爵士就是阿瑞斯 男主角最後死了\n",
      "\n",
      "7: 理論與實務最脫節的系\t哪個系不脫節...你問最不脫節的簡單多了...\n",
      "\n",
      "8: 為什麼PTT這麼多人看棒球\t肥宅才看棒球　系壘一堆胖子\n",
      "\n",
      "9: 為什麼達摩祖師傳那麼好看?\t達摩從頭到尾都是被動 (別人問他問題\n",
      "\n",
      "10: 3D小畫家有人會畫嗎？\t3D小當家有人會畫嗎\n",
      "\n",
      "11: 對天龍人來說宜蘭4南部還４東部\t他國事務..\n",
      "\n",
      "12: 機車推出uber或計程機車會怎樣\t載到肥宅會很痛苦\n",
      "\n",
      "13: 台中的龍邦世貿有人跳樓?\t曾經當過全台第一高樓，可惜不到一年\n",
      "\n",
      "14: 抽到海陸會被笑娘炮兵嗎\t還好啦，海陸下基地常態，下好下滿。\n"
     ]
    }
   ],
   "source": [
    "with open(\"./test.txt\",\"rt\",encoding='utf-8') as ifile:\n",
    "    i=0\n",
    "    for line in ifile :\n",
    "        print(str(i)+\": \"+line);\n",
    "        i=i+1;"
   ]
  },
  {
   "cell_type": "code",
   "execution_count": null,
   "metadata": {},
   "outputs": [],
   "source": []
  }
 ],
 "metadata": {
  "kernelspec": {
   "display_name": "Python 3",
   "language": "python",
   "name": "python3"
  },
  "language_info": {
   "codemirror_mode": {
    "name": "ipython",
    "version": 3
   },
   "file_extension": ".py",
   "mimetype": "text/x-python",
   "name": "python",
   "nbconvert_exporter": "python",
   "pygments_lexer": "ipython3",
   "version": "3.7.6"
  }
 },
 "nbformat": 4,
 "nbformat_minor": 4
}
